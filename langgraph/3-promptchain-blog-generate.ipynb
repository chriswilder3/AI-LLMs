{
 "cells": [
  {
   "cell_type": "code",
   "execution_count": 1,
   "metadata": {},
   "outputs": [
    {
     "data": {
      "text/plain": [
       "True"
      ]
     },
     "execution_count": 1,
     "metadata": {},
     "output_type": "execute_result"
    }
   ],
   "source": [
    "from langchain_huggingface import HuggingFaceEndpoint, ChatHuggingFace\n",
    "from langgraph.graph import StateGraph, START\n",
    "from typing import TypedDict\n",
    "import os\n",
    "from dotenv import load_dotenv\n",
    "load_dotenv()\n",
    "\n",
    "# Prompt Chaining to generate blog based on topic"
   ]
  },
  {
   "cell_type": "code",
   "execution_count": 2,
   "metadata": {},
   "outputs": [
    {
     "name": "stderr",
     "output_type": "stream",
     "text": [
      "e:\\AI-LLMs\\venv\\Lib\\site-packages\\tqdm\\auto.py:21: TqdmWarning: IProgress not found. Please update jupyter and ipywidgets. See https://ipywidgets.readthedocs.io/en/stable/user_install.html\n",
      "  from .autonotebook import tqdm as notebook_tqdm\n"
     ]
    }
   ],
   "source": [
    "# Model\n",
    "repo_id = \"meta-llama/Llama-3.1-8B-Instruct\"\n",
    "endpoint = HuggingFaceEndpoint(\n",
    "    repo_id= repo_id,\n",
    "    max_new_tokens= 128,\n",
    "    temperature= 0.3,\n",
    "    huggingfacehub_api_token= os.getenv('HUGGINGFACEHUB_API_TOKEN')\n",
    ")\n",
    "llm = ChatHuggingFace( llm = endpoint)"
   ]
  },
  {
   "cell_type": "code",
   "execution_count": 3,
   "metadata": {},
   "outputs": [],
   "source": [
    "# State\n",
    "\n",
    "class BlogState(TypedDict):\n",
    "    topic : str\n",
    "    outline : str\n",
    "    content : str"
   ]
  },
  {
   "cell_type": "code",
   "execution_count": 4,
   "metadata": {},
   "outputs": [],
   "source": [
    "# Define Node/functions\n",
    "\n",
    "def llm_outline(state: BlogState) -> BlogState:\n",
    "    topic = state[\"topic\"]\n",
    "    prompt = f\"\"\" <|begin_of_text|> \n",
    "                    <|start_header_id|> system <|end_header_id|> \n",
    "                        You are blog writing assistant.\n",
    "                        Generate an outline of blog based on topic\n",
    "                    <|eot_id|>\n",
    "                    <|start_header_id|> user <|end_header_id|>\n",
    "                        {topic}\n",
    "                    <|eot_id|>\n",
    "                    <|start_header_id|> assistant <|end_header_id|>\n",
    "                    \"\"\"\n",
    "    response = llm.invoke(prompt)\n",
    "    state[\"outline\"] = response.content\n",
    "    return state\n",
    "\n",
    "def llm_blog(state : BlogState) -> BlogState:\n",
    "    topic = state[\"topic\"]\n",
    "    outline = state[\"outline\"]\n",
    "    prompt = f\"\"\"<|begin_of_text|>\n",
    "                    <|start_header_id|> system <|end_header_id|>\n",
    "                        You are blog writing assistant. Based on\n",
    "                        topic and outline given, Generate a blog\n",
    "                    <|eot_id|>\n",
    "                    <|start_header_id|> user <|end_header_id|>\n",
    "                        topic : {topic}, outline : {outline}\n",
    "                    <|eot_id|>\n",
    "                    <|start_header_id|> assistant <|end_header_id|>\n",
    "             \"\"\"\n",
    "    response = llm.invoke(prompt)\n",
    "    state[\"content\"] = response.content\n",
    "    return state"
   ]
  },
  {
   "cell_type": "code",
   "execution_count": 5,
   "metadata": {},
   "outputs": [
    {
     "data": {
      "image/png": "[encoded data removed]",
      "text/plain": [
       "<langgraph.graph.state.CompiledStateGraph object at 0x0000019E01001FD0>"
      ]
     },
     "execution_count": 5,
     "metadata": {},
     "output_type": "execute_result"
    }
   ],
   "source": [
    "# Graph\n",
    "\n",
    "graph = StateGraph(state_schema= BlogState)\n",
    "graph.add_sequence([llm_outline, llm_blog])\n",
    "\n",
    "graph.add_edge(START, \"llm_outline\")\n",
    "\n",
    "workflow = graph.compile()\n",
    "workflow"
   ]
  },
  {
   "cell_type": "code",
   "execution_count": 7,
   "metadata": {},
   "outputs": [
    {
     "name": "stdout",
     "output_type": "stream",
     "text": [
      "----BLOG----\n",
      "**The Joy of Felines: 10 Fascinating Facts and Trivia About Cats**\n",
      "\n",
      "As cat lovers, we all know and adore our feline friends for their affectionate nature and adorable faces. But beyond their cute whiskers and playful pounces, cats are actually fascinating creatures that deserve our attention, care, and understanding. With over 600 million domesticated cats worldwide, it's no surprise that many of us consider them an integral part of our families.\n",
      "\n",
      "Understanding our feline friends is essential to providing them with a happy and healthy life. By exploring their history, behavior, health, and training abilities, we can learn to appreciate their quirks and characteristics, and build stronger bonds with them.\n",
      "\n",
      "**Cat History and Evolution**\n",
      "\n",
      "The domestication of cats dates back to around 9,000 years ago in the Middle East. The earliest known domesticated cat fossils were found in a human grave in Cyprus. These magnificent animals were first attracted to human settlements by grain stores, which attracted rodents and other small prey. Over time, humans and cats formed a mutually beneficial relationship, with cats providing pest control and humans offering shelter and food.\n",
      "\n",
      "Different cat breeds originated in various parts of the world, shaped by geographical and cultural factors. For example, the Sphynx, with its sleek and hairless body, was first bred in ancient Egypt for its affectionate nature. Similarly, the Bengal, a hybrid breed, was developed by crossing the domestic cat with the Asian leopard cat.\n",
      "\n",
      "Other interesting facts about cat evolution include:\n",
      "\n",
      "- The earliest known domesticated cat fossils, which date back to around 9,000 years ago\n",
      "- Cats were first domesticated in the Middle East, where humans and cats lived together to control rodents and other pests\n",
      "- Cats have scent glands on their faces, near their whiskers, which allow them to mark their territory and establish hierarchy in their social groups\n",
      "- Cats are highly territorial and have a strong sense of individuality, contributing to their unique personalities and behaviors\n",
      "\n",
      "**Cat Behavior and Body Language**\n",
      "\n",
      "Cats are often misunderstood as aloof and distant, but they actually communicate with us and other animals through body language. Understanding their vocalizations, tail positions, and ear tilts is essential to build trust and strengthen our bond with them.\n",
      "\n",
      "Cats exhibit three primary types of behavior: aggressive, playful, and affectionate. Aggressive behavior, such as growling or hissing, is often a sign of fear or territorialism, while playful behavior, like pouncing or chasing, is a natural instinct essential for hunting and developing their motor skills. Affectionate behavior, such as rubbing or purring, is a sign of trust and affection.\n",
      "\n",
      "Some additional fascinating facts about cat behavior include:\n",
      "\n",
      "- Cats have scent glands on their faces, near their whiskers, which allow them to mark their territory and establish hierarchy in their social groups\n",
      "- Cats are highly territorial and have a strong sense of individuality, contributing to their unique personalities and behaviors\n",
      "- Cats are known for their excellent memory and problem-solving skills, making them skilled hunters and adept problem solvers\n",
      "\n",
      "**Cat Health and Hygiene**\n",
      "\n",
      "Maintaining our cats' physical and mental health is essential to their well-being and longevity. Regular grooming and nail trimming, as well as balanced nutrition and regular exercise, help to keep our cats physically fit. However, common health issues in cats, such as dental problems and digestive issues, require proper care and treatment.\n",
      "\n",
      "Cat grooming habits are essential for their hygiene and social well-being. As a result, we must ensure they are brushing their coats regularly, trimming their nails regularly and maintaining good oral health.\n",
      "\n",
      "Some interesting facts about cat nutrition and dietary needs include:\n",
      "\n",
      "- Cats are obligate carnivores and require diet rich in protein for optimal health\n",
      "- Cats' inability to taste sweetness is due to the limited sense of taste on their tongues and a genetic bias that makes them prefer higher-sodium taste\n",
      "- A well-balanced diet rich in protein and low in carbohydrates is ideal for maintaining a healthy weight and preventing common diseases\n",
      "\n",
      "**Cat Intelligence and Training**\n",
      "\n",
      "It's a common myth that cats are not intelligent or trainable. However, they have excellent problem-solving skills, memory, and learning abilities. Clicker training and positive reinforcement methods are effective tools for teaching our cats new behaviors and maintaining their training.\n",
      "\n",
      "Cats have a natural instinct to hunt, which makes problem-solving exercises, such as puzzle toys or interactive games, a valuable tool for stimulating their brains. They are also naturally inclined to play and be active, making fun and exercise an integral part of their lives.\n",
      "\n",
      "Some fascinating facts about cat problem-solving skills and hunting behaviors include:\n",
      "\n",
      "- Cats are highly skilled at detecting even the slightest movements and sounds, making them excellent predators\n",
      "- Cats can learn quickly, through positive reinforcement and social interaction\n",
      "- Cats have three eyelids, the upper and lower eyelids, and the nictitating membrane, a thin layer of tissue that helps them see underwater and clear debris from their eyes\n",
      "\n",
      "**Fun Facts and Trivia**\n",
      "\n",
      "- Bizarre cat facts might sound strange, but they add to the fascinating nature of our feline friends. For example:\n",
      "  + Cats have a special \"righting reflex\" that allows them to survive falls, which we could only wish for.\n",
      "  + Cats spend approximately a quarter of their waking hours grooming, demonstrating their self-grooming abilities.\n",
      "  + Cats are incapable of perceiving sweetness due to the limitation in their sense of taste, giving them a peculiar eating preferences\n",
      "\n",
      "As we admire our cats' unique behaviors and characteristics, we build stronger bonds and foster their physical and mental well-being. So, by embracing their quirks, idiosyncrasies, and remarkable abilities, we can create a joyful and harmonious home for our feline companions.\n",
      "\n",
      "**Conclusion**\n",
      "\n",
      "By grasping the intricacies of cat behavior, health, and history, we can provide them with the love, care, and compassion they deserve. From domestication to behavior and from grooming to health, there is so much to learn and discover. It's through these shared activities and knowledge that our feline friends can truly be considered as part of our lives — not just pets, but our very family, with all the warmth, companionship and love we can provide.\n"
     ]
    }
   ],
   "source": [
    "topic = input(\"Enter the topic of the blog : \")\n",
    "\n",
    "init_state = {\"topic\": topic}\n",
    "\n",
    "final_state = workflow.invoke(init_state)\n",
    "\n",
    "print(\"----BLOG----\")\n",
    "print(final_state[\"content\"])"
   ]
  },
  {
   "cell_type": "code",
   "execution_count": 11,
   "metadata": {},
   "outputs": [
    {
     "name": "stdout",
     "output_type": "stream",
     "text": [
      "Here's an outline for a blog post about cats:\n",
      "\n",
      "**Title:** \"The Joy of Felines: 10 Fascinating Facts and Trivia About Cats\"\n",
      "\n",
      "**I. Introduction**\n",
      "\n",
      "* Brief overview of the popularity of cats as pets\n",
      "* Importance of understanding our feline friends\n",
      "* Thesis statement: Cats are more than just adorable pets, they're fascinating creatures that deserve our attention and care.\n",
      "\n",
      "**II. Cat History and Evolution**\n",
      "\n",
      "* Overview of the domestication of cats\n",
      "* Brief history of cat breeds and their origins\n",
      "* Interesting facts about the evolution of cats, such as:\n",
      "\t+ The earliest known domesticated cat fossils date back to around 9,000 years ago\n",
      "\t+ Cats were first domesticated in the Middle East\n",
      "\n",
      "**III. Cat Behavior and Body Language**\n",
      "\n",
      "* Understanding cat body language: tail, ears, and eyes\n",
      "* Types of cat behavior: aggressive, playful, and affectionate\n",
      "* Interesting facts about cat behavior, such as:\n",
      "\t+ Cats have scent glands on their faces, near their whiskers\n",
      "\t+ Cats are highly territorial and have a strong sense of individuality\n",
      "\n",
      "**IV. Cat Health and Hygiene**\n",
      "\n",
      "* Common health issues in cats, such as dental problems and digestive issues\n",
      "* Cat grooming habits: importance of regular grooming and nail trimming\n",
      "* Tips on maintaining a healthy lifestyle for cats\n",
      "* Interesting facts about cat nutrition and dietary needs\n",
      "\n",
      "**V. Cat Intelligence and Training**\n",
      "\n",
      "* Debunking myths about cat intelligence and trainability\n",
      "* Tips on training cats: clicker training, positive reinforcement\n",
      "* Interesting facts about cat problem-solving skills and hunting behaviors\n",
      "\n",
      "**VI. Fun Facts and Trivia**\n",
      "\n",
      "* Bizarre cat facts, such as:\n",
      "\t+ Cats have three eyelids: the upper, lower, and third (the nictitating membrane)\n",
      "\t+ Cats can't taste sweetness due to their limited sense of taste\n",
      "\n",
      "**VII. Conclusion**\n",
      "\n",
      "* Recap of the importance of understanding and caring for our feline friends\n",
      "* Final thoughts: appreciation for the unique qualities and characteristics of cats.\n",
      "\n",
      "This is just a rough outline, and you can expand or modify it to fit your writing style. Let me know if you'd like to add any other topics or sections.\n"
     ]
    }
   ],
   "source": [
    "print(final_state[\"outline\"])"
   ]
  },
  {
   "cell_type": "code",
   "execution_count": 8,
   "metadata": {},
   "outputs": [
    {
     "data": {
      "text/plain": [
       "{'topic': 'cats',\n",
       " 'outline': 'Here\\'s an outline for a blog post about cats:\\n\\n**Title:** \"The Joy of Felines: 10 Fascinating Facts and Trivia About Cats\"\\n\\n**I. Introduction**\\n\\n* Brief overview of the popularity of cats as pets\\n* Importance of understanding our feline friends\\n* Thesis statement: Cats are more than just adorable pets, they\\'re fascinating creatures that deserve our attention and care.\\n\\n**II. Cat History and Evolution**\\n\\n* Overview of the domestication of cats\\n* Brief history of cat breeds and their origins\\n* Interesting facts about the evolution of cats, such as:\\n\\t+ The earliest known domesticated cat fossils date back to around 9,000 years ago\\n\\t+ Cats were first domesticated in the Middle East\\n\\n**III. Cat Behavior and Body Language**\\n\\n* Understanding cat body language: tail, ears, and eyes\\n* Types of cat behavior: aggressive, playful, and affectionate\\n* Interesting facts about cat behavior, such as:\\n\\t+ Cats have scent glands on their faces, near their whiskers\\n\\t+ Cats are highly territorial and have a strong sense of individuality\\n\\n**IV. Cat Health and Hygiene**\\n\\n* Common health issues in cats, such as dental problems and digestive issues\\n* Cat grooming habits: importance of regular grooming and nail trimming\\n* Tips on maintaining a healthy lifestyle for cats\\n* Interesting facts about cat nutrition and dietary needs\\n\\n**V. Cat Intelligence and Training**\\n\\n* Debunking myths about cat intelligence and trainability\\n* Tips on training cats: clicker training, positive reinforcement\\n* Interesting facts about cat problem-solving skills and hunting behaviors\\n\\n**VI. Fun Facts and Trivia**\\n\\n* Bizarre cat facts, such as:\\n\\t+ Cats have three eyelids: the upper, lower, and third (the nictitating membrane)\\n\\t+ Cats can\\'t taste sweetness due to their limited sense of taste\\n\\n**VII. Conclusion**\\n\\n* Recap of the importance of understanding and caring for our feline friends\\n* Final thoughts: appreciation for the unique qualities and characteristics of cats.\\n\\nThis is just a rough outline, and you can expand or modify it to fit your writing style. Let me know if you\\'d like to add any other topics or sections.',\n",
       " 'content': '**The Joy of Felines: 10 Fascinating Facts and Trivia About Cats**\\n\\nAs cat lovers, we all know and adore our feline friends for their affectionate nature and adorable faces. But beyond their cute whiskers and playful pounces, cats are actually fascinating creatures that deserve our attention, care, and understanding. With over 600 million domesticated cats worldwide, it\\'s no surprise that many of us consider them an integral part of our families.\\n\\nUnderstanding our feline friends is essential to providing them with a happy and healthy life. By exploring their history, behavior, health, and training abilities, we can learn to appreciate their quirks and characteristics, and build stronger bonds with them.\\n\\n**Cat History and Evolution**\\n\\nThe domestication of cats dates back to around 9,000 years ago in the Middle East. The earliest known domesticated cat fossils were found in a human grave in Cyprus. These magnificent animals were first attracted to human settlements by grain stores, which attracted rodents and other small prey. Over time, humans and cats formed a mutually beneficial relationship, with cats providing pest control and humans offering shelter and food.\\n\\nDifferent cat breeds originated in various parts of the world, shaped by geographical and cultural factors. For example, the Sphynx, with its sleek and hairless body, was first bred in ancient Egypt for its affectionate nature. Similarly, the Bengal, a hybrid breed, was developed by crossing the domestic cat with the Asian leopard cat.\\n\\nOther interesting facts about cat evolution include:\\n\\n- The earliest known domesticated cat fossils, which date back to around 9,000 years ago\\n- Cats were first domesticated in the Middle East, where humans and cats lived together to control rodents and other pests\\n- Cats have scent glands on their faces, near their whiskers, which allow them to mark their territory and establish hierarchy in their social groups\\n- Cats are highly territorial and have a strong sense of individuality, contributing to their unique personalities and behaviors\\n\\n**Cat Behavior and Body Language**\\n\\nCats are often misunderstood as aloof and distant, but they actually communicate with us and other animals through body language. Understanding their vocalizations, tail positions, and ear tilts is essential to build trust and strengthen our bond with them.\\n\\nCats exhibit three primary types of behavior: aggressive, playful, and affectionate. Aggressive behavior, such as growling or hissing, is often a sign of fear or territorialism, while playful behavior, like pouncing or chasing, is a natural instinct essential for hunting and developing their motor skills. Affectionate behavior, such as rubbing or purring, is a sign of trust and affection.\\n\\nSome additional fascinating facts about cat behavior include:\\n\\n- Cats have scent glands on their faces, near their whiskers, which allow them to mark their territory and establish hierarchy in their social groups\\n- Cats are highly territorial and have a strong sense of individuality, contributing to their unique personalities and behaviors\\n- Cats are known for their excellent memory and problem-solving skills, making them skilled hunters and adept problem solvers\\n\\n**Cat Health and Hygiene**\\n\\nMaintaining our cats\\' physical and mental health is essential to their well-being and longevity. Regular grooming and nail trimming, as well as balanced nutrition and regular exercise, help to keep our cats physically fit. However, common health issues in cats, such as dental problems and digestive issues, require proper care and treatment.\\n\\nCat grooming habits are essential for their hygiene and social well-being. As a result, we must ensure they are brushing their coats regularly, trimming their nails regularly and maintaining good oral health.\\n\\nSome interesting facts about cat nutrition and dietary needs include:\\n\\n- Cats are obligate carnivores and require diet rich in protein for optimal health\\n- Cats\\' inability to taste sweetness is due to the limited sense of taste on their tongues and a genetic bias that makes them prefer higher-sodium taste\\n- A well-balanced diet rich in protein and low in carbohydrates is ideal for maintaining a healthy weight and preventing common diseases\\n\\n**Cat Intelligence and Training**\\n\\nIt\\'s a common myth that cats are not intelligent or trainable. However, they have excellent problem-solving skills, memory, and learning abilities. Clicker training and positive reinforcement methods are effective tools for teaching our cats new behaviors and maintaining their training.\\n\\nCats have a natural instinct to hunt, which makes problem-solving exercises, such as puzzle toys or interactive games, a valuable tool for stimulating their brains. They are also naturally inclined to play and be active, making fun and exercise an integral part of their lives.\\n\\nSome fascinating facts about cat problem-solving skills and hunting behaviors include:\\n\\n- Cats are highly skilled at detecting even the slightest movements and sounds, making them excellent predators\\n- Cats can learn quickly, through positive reinforcement and social interaction\\n- Cats have three eyelids, the upper and lower eyelids, and the nictitating membrane, a thin layer of tissue that helps them see underwater and clear debris from their eyes\\n\\n**Fun Facts and Trivia**\\n\\n- Bizarre cat facts might sound strange, but they add to the fascinating nature of our feline friends. For example:\\n  + Cats have a special \"righting reflex\" that allows them to survive falls, which we could only wish for.\\n  + Cats spend approximately a quarter of their waking hours grooming, demonstrating their self-grooming abilities.\\n  + Cats are incapable of perceiving sweetness due to the limitation in their sense of taste, giving them a peculiar eating preferences\\n\\nAs we admire our cats\\' unique behaviors and characteristics, we build stronger bonds and foster their physical and mental well-being. So, by embracing their quirks, idiosyncrasies, and remarkable abilities, we can create a joyful and harmonious home for our feline companions.\\n\\n**Conclusion**\\n\\nBy grasping the intricacies of cat behavior, health, and history, we can provide them with the love, care, and compassion they deserve. From domestication to behavior and from grooming to health, there is so much to learn and discover. It\\'s through these shared activities and knowledge that our feline friends can truly be considered as part of our lives — not just pets, but our very family, with all the warmth, companionship and love we can provide.'}"
      ]
     },
     "execution_count": 8,
     "metadata": {},
     "output_type": "execute_result"
    }
   ],
   "source": [
    "final_state"
   ]
  },
  {
   "cell_type": "code",
   "execution_count": null,
   "metadata": {},
   "outputs": [],
   "source": []
  }
 ],
 "metadata": {
  "kernelspec": {
   "display_name": "venv",
   "language": "python",
   "name": "python3"
  },
  "language_info": {
   "codemirror_mode": {
    "name": "ipython",
    "version": 3
   },
   "file_extension": ".py",
   "mimetype": "text/x-python",
   "name": "python",
   "nbconvert_exporter": "python",
   "pygments_lexer": "ipython3",
   "version": "3.12.6"
  },
  "orig_nbformat": 4
 },
 "nbformat": 4,
 "nbformat_minor": 2
}
