{
 "cells": [
  {
   "cell_type": "code",
   "execution_count": 3,
   "metadata": {},
   "outputs": [],
   "source": [
    "from langgraph.graph import StateGraph, START, END\n",
    "from typing import TypedDict, Literal\n",
    "from math import sqrt\n",
    "\n",
    "# Find Roots of Quadratic equation using Conditional Workflow"
   ]
  },
  {
   "cell_type": "code",
   "execution_count": 4,
   "metadata": {},
   "outputs": [],
   "source": [
    "# State\n",
    "\n",
    "class QuadraticState(TypedDict):\n",
    "    a : int\n",
    "    b : int\n",
    "    c : int\n",
    "    \n",
    "    equation : str\n",
    "    discriminant : float\n",
    "    result: str"
   ]
  },
  {
   "cell_type": "code",
   "execution_count": 28,
   "metadata": {},
   "outputs": [],
   "source": [
    "def show_equation(state : QuadraticState)-> QuadraticState:\n",
    "    a = state[\"a\"]\n",
    "    b = state[\"b\"]\n",
    "    c = state[\"c\"]\n",
    "\n",
    "    equation = f\"{a}x^2{f\"+{b}\" if b>=0 else b}x{f\"+{c}\" if c>=0 else c} = 0 \"\n",
    "    return {\"equation\": equation}\n",
    "\n",
    "def calc_discriminant(state : QuadraticState)-> QuadraticState:\n",
    "    \"\"\" b**2-(4*a*c)\"\"\"\n",
    "    a = state[\"a\"]\n",
    "    b = state[\"b\"]\n",
    "    c = state[\"c\"]\n",
    "\n",
    "    discriminant = b**2 - (4*a*c)\n",
    "    return {\"discriminant\":discriminant}\n",
    "\n",
    "def no_real_roots(state : QuadraticState)-> QuadraticState:\n",
    "    \n",
    "    return {\"result\":\"no real roots\" }\n",
    "\n",
    "def distinct_roots(state : QuadraticState)-> QuadraticState:\n",
    "    a = state[\"a\"]\n",
    "    b = state[\"b\"]\n",
    "    d = state[\"discriminant\"]\n",
    "    r1 = ((-b+sqrt(d))/(2*a))\n",
    "    r2 = ((-b-sqrt(d))/(2*a))      \n",
    "    return {\"result\": f\" Distinct Roots --> r1 : {r1}, r2:{r2}\" }\n",
    "\n",
    "def repeated_roots(state : QuadraticState)-> QuadraticState:\n",
    "    a = state[\"a\"]\n",
    "    b = state[\"b\"]\n",
    "    r1 = (-b)/float(2*a)\n",
    "          \n",
    "    return {\"result\": f\" Repeated Roots --> r : {r1}\" }\n",
    "\n",
    "    # Function that acts conditional router, it takes in\n",
    "    # State & returns name of the correct node to branch\n",
    "def check_condition(state: QuadraticState)-> Literal[\"distinct_roots\",\"no_real_roots\",\"repeated_roots\"] :\n",
    "    if state[\"discriminant\"]>0:\n",
    "        return \"distinct_roots\"\n",
    "    elif state[\"discriminant\"]<0:\n",
    "        return \"no_real_roots\"\n",
    "    else:\n",
    "        return \"repeated_roots\"\n",
    "\n",
    "\n",
    "def summarize(state : QuadraticState)-> QuadraticState:\n",
    "    summary = f\"SR : {state[\"strike_rate\"]}, boundary_perc : {state['boundary_percent']}, bpb : {state['balls_per_boundary']}\"\n",
    "    \n",
    "    state[\"summary\"] = summary\n",
    "    return state"
   ]
  },
  {
   "cell_type": "code",
   "execution_count": 29,
   "metadata": {},
   "outputs": [
    {
     "data": {
      "image/png": "[encoded data removed]",
      "text/plain": [
       "<langgraph.graph.state.CompiledStateGraph object at 0x00000187212F1AF0>"
      ]
     },
     "execution_count": 29,
     "metadata": {},
     "output_type": "execute_result"
    }
   ],
   "source": [
    "# Graph \n",
    "\n",
    "graph = StateGraph(state_schema= QuadraticState)\n",
    "\n",
    "# Add Nodes\n",
    "    # Sequential\n",
    "graph.add_node(\"show_equation\", show_equation)\n",
    "graph.add_node(\"calc_discriminant\", calc_discriminant)\n",
    "    # Branching nodes\n",
    "graph.add_node(\"no_real_roots\", no_real_roots)\n",
    "graph.add_node(\"distinct_roots\", distinct_roots)\n",
    "graph.add_node(\"repeated_roots\", repeated_roots)\n",
    "\n",
    "\n",
    "# Adding edges\n",
    "    # Sequential\n",
    "graph.add_edge(START, \"show_equation\")\n",
    "graph.add_edge(\"show_equation\", \"calc_discriminant\")\n",
    "\n",
    "    # Adding Conditional edges\n",
    "graph.add_conditional_edges(\"calc_discriminant\", check_condition)\n",
    "\n",
    "    # Branch ending edges (although 3, result comes through only 1)\n",
    "graph.add_edge(\"no_real_roots\", END)\n",
    "graph.add_edge(\"distinct_roots\", END)\n",
    "graph.add_edge(\"repeated_roots\", END)\n",
    "\n",
    "\n",
    "workflow = graph.compile()\n",
    "workflow"
   ]
  },
  {
   "cell_type": "code",
   "execution_count": 35,
   "metadata": {},
   "outputs": [
    {
     "data": {
      "text/plain": [
       "{'a': 1, 'b': 4, 'c': -12}"
      ]
     },
     "execution_count": 35,
     "metadata": {},
     "output_type": "execute_result"
    }
   ],
   "source": [
    "\n",
    "init_state = {\n",
    "    \"a\": 1,\n",
    "    \"b\": 4,\n",
    "    \"c\": -12,\n",
    "}\n",
    "init_state"
   ]
  },
  {
   "cell_type": "code",
   "execution_count": 36,
   "metadata": {},
   "outputs": [
    {
     "data": {
      "text/plain": [
       "{'a': 1,\n",
       " 'b': 4,\n",
       " 'c': -12,\n",
       " 'equation': '1x^2+4x-12 = 0 ',\n",
       " 'discriminant': 64,\n",
       " 'result': ' Distinct Roots --> r1 : 2.0, r2:-6.0'}"
      ]
     },
     "execution_count": 36,
     "metadata": {},
     "output_type": "execute_result"
    }
   ],
   "source": [
    "final_state = workflow.invoke(init_state)\n",
    "\n",
    "# print(final_state[\"summary\"])\n",
    "final_state"
   ]
  },
  {
   "cell_type": "code",
   "execution_count": null,
   "metadata": {},
   "outputs": [],
   "source": []
  }
 ],
 "metadata": {
  "kernelspec": {
   "display_name": "venv",
   "language": "python",
   "name": "python3"
  },
  "language_info": {
   "codemirror_mode": {
    "name": "ipython",
    "version": 3
   },
   "file_extension": ".py",
   "mimetype": "text/x-python",
   "name": "python",
   "nbconvert_exporter": "python",
   "pygments_lexer": "ipython3",
   "version": "3.12.6"
  },
  "orig_nbformat": 4
 },
 "nbformat": 4,
 "nbformat_minor": 2
}
