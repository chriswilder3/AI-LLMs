{
 "cells": [
  {
   "cell_type": "code",
   "execution_count": 40,
   "metadata": {},
   "outputs": [
    {
     "data": {
      "text/plain": [
       "True"
      ]
     },
     "execution_count": 40,
     "metadata": {},
     "output_type": "execute_result"
    }
   ],
   "source": [
    "from langgraph.graph import START, END, StateGraph\n",
    "from langchain_huggingface import HuggingFaceEndpoint, ChatHuggingFace\n",
    "import os\n",
    "from dotenv import load_dotenv\n",
    "from typing import Literal, TypedDict\n",
    "load_dotenv()\n",
    "\n",
    "\n",
    "# Generate LinkedIn Post with evaluator-optimizer(iterative)workflow"
   ]
  },
  {
   "cell_type": "code",
   "execution_count": 41,
   "metadata": {},
   "outputs": [],
   "source": [
    "# Models\n",
    "\n",
    "repo_id = \"meta-llama/Llama-3.1-8B-Instruct\"\n",
    "    # repo_id = \"TinyLlama/TinyLlama-1.1B-Chat-v1.0\"\n",
    "generator_llm = HuggingFaceEndpoint(\n",
    "    repo_id= repo_id,\n",
    "    max_new_tokens= 100,\n",
    "    temperature= 0.6,\n",
    "    huggingfacehub_api_token= os.getenv(\"HUGGINGFACEHUB_API_TOKEN\")\n",
    ")\n",
    "evaluator_llm = HuggingFaceEndpoint(\n",
    "    repo_id= repo_id,\n",
    "    max_new_tokens= 100,\n",
    "    temperature= 0.2,\n",
    "    huggingfacehub_api_token= os.getenv(\"HUGGINGFACEHUB_API_TOKEN\")\n",
    ")\n",
    "generator_llm = ChatHuggingFace(llm= generator_llm)\n",
    "optimizer_llm = generator_llm\n",
    "evaluator_llm = ChatHuggingFace(llm= evaluator_llm)"
   ]
  },
  {
   "cell_type": "code",
   "execution_count": 42,
   "metadata": {},
   "outputs": [],
   "source": [
    "# State\n",
    "\n",
    "class PostState(TypedDict):\n",
    "    topic: str\n",
    "    generated_post : str\n",
    "    evaluation : Literal[\"approved\",\"needs_improvement\"]\n",
    "    feedback : str\n",
    "    current_iteration : int\n",
    "    max_iterations : int\n",
    "\n",
    "# LLM output structure\n",
    "    \n",
    "    # for Evaluator\n",
    "class EvaluatorOutput(TypedDict):\n",
    "    evalutation: Literal[\"approved\",\"needs_improvement\"]\n",
    "    feedback : str\n",
    "\n",
    "    # for generator/optimizer\n",
    "class GeneratorOutput:\n",
    "    generated_post : str"
   ]
  },
  {
   "cell_type": "code",
   "execution_count": 43,
   "metadata": {},
   "outputs": [],
   "source": [
    "# Node functions\n",
    "\n",
    "def generator(state : PostState)-> PostState:\n",
    "    topic = state[\"topic\"]\n",
    "    prompt = f\"\"\" You are social media post writing assistant.\n",
    "         Generate a realistic, professional yet catchy and\n",
    "         funny LinkedIn post based on this topic : {topic}.\n",
    "         Rules :\n",
    "         - Max 250 characters\n",
    "         - User observational humour, cultural and linked In corporate environment references\n",
    "         \"\"\"\n",
    "    response = generator_llm.invoke(prompt)\n",
    "    return {\"generated_post\": response.content}\n",
    "\n",
    "def evaluator(state: PostState)-> PostState:\n",
    "    topic = state[\"topic\"]\n",
    "    post = state[\"generated_post\"]\n",
    "\n",
    "    # prompt = f\"\"\" Given a topic : {topic}, evaluate whether the\n",
    "    #         LinkedIn post is of best quality(approved) or needs\n",
    "    #         improvement. post : {post}.\n",
    "    #         Also give out an improvement feedback.\"\"\"\n",
    "    \n",
    "    prompt = f\"\"\" Given a topic : {topic}, critically evaluate the \n",
    "            LinkedIn post post : {post}.\n",
    "            If rejected, give improvement feedback.\"\"\"\n",
    "    # Reassign llm to different name or use global to avoid errors\n",
    "    eval_llm = evaluator_llm.with_structured_output(EvaluatorOutput)\n",
    "    response = eval_llm.invoke(prompt)\n",
    "    partial_state = {\n",
    "        \"evaluation\": response[\"evalutation\"],\n",
    "        \"feedback\": response[\"feedback\"]\n",
    "    }\n",
    "    return partial_state\n",
    "\n",
    "def optimizer(state: PostState)-> PostState:\n",
    "    topic = state[\"topic\"]\n",
    "    post = state[\"generated_post\"]\n",
    "    feedback = state[\"feedback\"]\n",
    "\n",
    "    prompt = f\"\"\" You are social media post writing assistant.\n",
    "            Given a topic : {topic}, and feedback : {feedback},\n",
    "            improve the Linkin Post accordingly and generate better \n",
    "            one with funny,catchy and yet professional tone. \n",
    "            post : {post}.\n",
    "            Rules :\n",
    "            - Max 250 characters\n",
    "            - User observational humour, cultural and linked In corporate environment references\"\"\"\n",
    "\n",
    "    response = generator_llm.invoke(prompt)\n",
    "    # Increment the iteration count as well\n",
    "    iterations = state[\"current_iteration\"] \n",
    "    iterations += 1\n",
    "    return { \"generated_post\": response.content, \n",
    "                \"current_iteration\": iterations }\n",
    "\n",
    "def check_condition(state : PostState):\n",
    "    evaluation =  state[\"evaluation\"]\n",
    "    current_iteration = state[\"current_iteration\"]\n",
    "    # If the evaluation is approved or we have done max iterations\n",
    "    \n",
    "    if evaluation == \"approved\" or current_iteration > state[\"max_iterations\"]:\n",
    "        return \"approved\"\n",
    "    else:\n",
    "        return \"rejected\"\n",
    "    # returning normal strings which we can map to nodes later"
   ]
  },
  {
   "cell_type": "code",
   "execution_count": 44,
   "metadata": {},
   "outputs": [
    {
     "data": {
      "image/png": "[encoded data removed]",
      "text/plain": [
       "<langgraph.graph.state.CompiledStateGraph object at 0x000001A2DA9367E0>"
      ]
     },
     "execution_count": 44,
     "metadata": {},
     "output_type": "execute_result"
    }
   ],
   "source": [
    "# Graph\n",
    "\n",
    "graph = StateGraph(state_schema= PostState)\n",
    "\n",
    "# Add nodes\n",
    "\n",
    "graph.add_node(\"generator\",generator)\n",
    "graph.add_node(\"evaluator\",evaluator)\n",
    "graph.add_node(\"optimizer\",optimizer)\n",
    "\n",
    "# Add Edges\n",
    "\n",
    "graph.add_edge(START, \"generator\")\n",
    "graph.add_edge(\"generator\", \"evaluator\")\n",
    "    # Conditional edges\n",
    "    # Here in 3rd param, pass a dictionary, that maps strings\n",
    "    # (corresponding to each condition) to their respective\n",
    "    # associated nodes(functions)\n",
    "graph.add_conditional_edges(\"evaluator\", check_condition,\n",
    "                        {\n",
    "                            \"approved\": END,\n",
    "                            \"rejected\": \"optimizer\"\n",
    "                        })\n",
    "    # optimizer output edge\n",
    "graph.add_edge(\"optimizer\", \"evaluator\")\n",
    "\n",
    "graph.add_edge(\"evaluator\", END)\n",
    "\n",
    "workflow = graph.compile()\n",
    "\n",
    "workflow"
   ]
  },
  {
   "cell_type": "code",
   "execution_count": 46,
   "metadata": {},
   "outputs": [
    {
     "data": {
      "text/plain": [
       "{'topic': 'LLMs for corporate growth',\n",
       " 'generated_post': 'Here\\'s a rewritten LinkedIn post with a professional tone, a touch of humor, and a reference to the corporate environment:\\n\\n\"\\'The coffee machine whisperer\\' takes a backseat: How LLMs (Large Language Models) are cooking up corporate growth recipes. From automating dull tasks to predicting sales wins, AI is taking the reins. Who\\'s really running the show now? #CorpGrowth #LLMs #AI\"',\n",
       " 'evaluation': 'approved',\n",
       " 'feedback': 'The post effectively utilizes a bit of humor to engage readers while highlighting the benefits of LLMs in corporate growth. However, it could be more concise and directly address the impact of LLMs on corporate growth.',\n",
       " 'current_iteration': 2,\n",
       " 'max_iterations': 5}"
      ]
     },
     "execution_count": 46,
     "metadata": {},
     "output_type": "execute_result"
    }
   ],
   "source": [
    "topic = \"LLMs for corporate growth\"\n",
    "init_state = {\n",
    "    \"topic\" : topic ,\n",
    "    \"current_iteration\": 1,\n",
    "    \"max_iterations\": 5\n",
    "}\n",
    "final_state = workflow.invoke(init_state)\n",
    "final_state"
   ]
  },
  {
   "cell_type": "code",
   "execution_count": 47,
   "metadata": {},
   "outputs": [
    {
     "name": "stdout",
     "output_type": "stream",
     "text": [
      "Here's a rewritten LinkedIn post with a professional tone, a touch of humor, and a reference to the corporate environment:\n",
      "\n",
      "\"'The coffee machine whisperer' takes a backseat: How LLMs (Large Language Models) are cooking up corporate growth recipes. From automating dull tasks to predicting sales wins, AI is taking the reins. Who's really running the show now? #CorpGrowth #LLMs #AI\"\n"
     ]
    }
   ],
   "source": [
    "print(final_state[\"generated_post\"])"
   ]
  },
  {
   "cell_type": "code",
   "execution_count": null,
   "metadata": {},
   "outputs": [],
   "source": []
  }
 ],
 "metadata": {
  "kernelspec": {
   "display_name": "venv",
   "language": "python",
   "name": "python3"
  },
  "language_info": {
   "codemirror_mode": {
    "name": "ipython",
    "version": 3
   },
   "file_extension": ".py",
   "mimetype": "text/x-python",
   "name": "python",
   "nbconvert_exporter": "python",
   "pygments_lexer": "ipython3",
   "version": "3.12.6"
  },
  "orig_nbformat": 4
 },
 "nbformat": 4,
 "nbformat_minor": 2
}
