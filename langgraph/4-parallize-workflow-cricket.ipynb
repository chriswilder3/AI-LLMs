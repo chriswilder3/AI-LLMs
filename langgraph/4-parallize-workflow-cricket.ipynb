{
 "cells": [
  {
   "cell_type": "code",
   "execution_count": 2,
   "metadata": {},
   "outputs": [
    {
     "data": {
      "text/plain": [
       "True"
      ]
     },
     "execution_count": 2,
     "metadata": {},
     "output_type": "execute_result"
    }
   ],
   "source": [
    "from langgraph.graph import StateGraph, START, END\n",
    "from typing import TypedDict\n",
    "import os\n",
    "from dotenv import load_dotenv\n",
    "load_dotenv()\n",
    "\n",
    "\n",
    "# Cricket Stats calculate"
   ]
  },
  {
   "cell_type": "code",
   "execution_count": 3,
   "metadata": {},
   "outputs": [],
   "source": [
    "# State\n",
    "\n",
    "class PlayerState(TypedDict):\n",
    "    runs : int\n",
    "    balls : int\n",
    "    fours : int\n",
    "    sixes : int\n",
    "    strike_rate : float\n",
    "    boundary_percent : float\n",
    "    balls_per_boundary : float\n",
    "    summary : str"
   ]
  },
  {
   "cell_type": "code",
   "execution_count": 24,
   "metadata": {},
   "outputs": [],
   "source": [
    "def calc_sr(state : PlayerState)-> PlayerState:\n",
    "    # runs = state[\"runs\"]\n",
    "    # balls = state[\"balls\"]\n",
    "\n",
    "    sr = (state[\"runs\"]/float(state[\"balls\"])) * 100\n",
    "    return {\"strike_rate\": sr}\n",
    "\n",
    "def calc_boundary_perc(state : PlayerState)-> PlayerState:\n",
    "    \"\"\" perc of score earned by boundaries\"\"\"\n",
    "    boundary_scores = state[\"fours\"]*4 + state[\"sixes\"]*6\n",
    "\n",
    "    boundary_perc = (boundary_scores / float(state[\"balls\"]))*100\n",
    "    return {\"boundary_percent\":boundary_perc}\n",
    "\n",
    "def calc_bpb(state : PlayerState)-> PlayerState:\n",
    "    boundaries = state[\"fours\"] + state[\"sixes\"]\n",
    "\n",
    "    balls_per_boundary = state[\"balls\"]/ float( boundaries)\n",
    "    return {\"balls_per_boundary\": balls_per_boundary}\n",
    "\n",
    "def summarize(state : PlayerState)-> PlayerState:\n",
    "    summary = f\"SR : {state[\"strike_rate\"]}, boundary_perc : {state['boundary_percent']}, bpb : {state['balls_per_boundary']}\"\n",
    "    \n",
    "    state[\"summary\"] = summary\n",
    "    return state"
   ]
  },
  {
   "cell_type": "code",
   "execution_count": 25,
   "metadata": {},
   "outputs": [
    {
     "data": {
      "image/png": "[encoded data removed]",
      "text/plain": [
       "<langgraph.graph.state.CompiledStateGraph object at 0x0000022CD6B7F1D0>"
      ]
     },
     "execution_count": 25,
     "metadata": {},
     "output_type": "execute_result"
    }
   ],
   "source": [
    "# Graph \n",
    "\n",
    "graph = StateGraph(state_schema= PlayerState)\n",
    "\n",
    "graph.add_node(\"calc_sr\", calc_sr)\n",
    "graph.add_node(\"calc_boundary_perc\", calc_boundary_perc)\n",
    "graph.add_node(\"calc_bpb\", calc_bpb)\n",
    "graph.add_node(\"summarize\", summarize)\n",
    "\n",
    "# Adding parallel edges\n",
    "graph.add_edge(START, \"calc_sr\")\n",
    "graph.add_edge(START, \"calc_boundary_perc\")\n",
    "graph.add_edge(START, \"calc_bpb\")\n",
    "\n",
    "# Adding aggregate edges\n",
    "graph.add_edge(\"calc_sr\",\"summarize\")\n",
    "graph.add_edge(\"calc_boundary_perc\",\"summarize\")\n",
    "graph.add_edge(\"calc_bpb\",\"summarize\")\n",
    "\n",
    "graph.add_edge(\"summarize\", END)\n",
    "\n",
    "workflow = graph.compile()\n",
    "workflow"
   ]
  },
  {
   "cell_type": "code",
   "execution_count": 26,
   "metadata": {},
   "outputs": [
    {
     "data": {
      "text/plain": [
       "{'runs': 535, 'balls': 276, 'fours': 10, 'sixes': 10}"
      ]
     },
     "execution_count": 26,
     "metadata": {},
     "output_type": "execute_result"
    }
   ],
   "source": [
    "stats = input(\"Enter runs, balls, 4's, 6's in a line : \")\n",
    "stats = list(map(int,stats.split(\" \")))\n",
    "\n",
    "init_state = {\n",
    "    \"runs\": stats[0],\n",
    "    \"balls\": stats[1],\n",
    "    \"fours\": stats[2],\n",
    "    \"sixes\": stats[3],\n",
    "}\n",
    "init_state"
   ]
  },
  {
   "cell_type": "code",
   "execution_count": 27,
   "metadata": {},
   "outputs": [
    {
     "name": "stdout",
     "output_type": "stream",
     "text": [
      "SR : 193.84057971014494, boundary_perc : 36.231884057971016, bpb : 13.8\n"
     ]
    }
   ],
   "source": [
    "final_state = workflow.invoke(init_state)\n",
    "\n",
    "print(final_state[\"summary\"])"
   ]
  },
  {
   "cell_type": "code",
   "execution_count": 28,
   "metadata": {},
   "outputs": [
    {
     "data": {
      "text/plain": [
       "{'runs': 535,\n",
       " 'balls': 276,\n",
       " 'fours': 10,\n",
       " 'sixes': 10,\n",
       " 'strike_rate': 193.84057971014494,\n",
       " 'boundary_percent': 36.231884057971016,\n",
       " 'balls_per_boundary': 13.8,\n",
       " 'summary': 'SR : 193.84057971014494, boundary_perc : 36.231884057971016, bpb : 13.8'}"
      ]
     },
     "execution_count": 28,
     "metadata": {},
     "output_type": "execute_result"
    }
   ],
   "source": [
    "final_state"
   ]
  },
  {
   "cell_type": "code",
   "execution_count": null,
   "metadata": {},
   "outputs": [],
   "source": []
  }
 ],
 "metadata": {
  "kernelspec": {
   "display_name": "venv",
   "language": "python",
   "name": "python3"
  },
  "language_info": {
   "codemirror_mode": {
    "name": "ipython",
    "version": 3
   },
   "file_extension": ".py",
   "mimetype": "text/x-python",
   "name": "python",
   "nbconvert_exporter": "python",
   "pygments_lexer": "ipython3",
   "version": "3.12.6"
  },
  "orig_nbformat": 4
 },
 "nbformat": 4,
 "nbformat_minor": 2
}
