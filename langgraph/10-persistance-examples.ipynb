{
 "cells": [
  {
   "cell_type": "code",
   "execution_count": 1,
   "metadata": {},
   "outputs": [
    {
     "data": {
      "text/plain": [
       "True"
      ]
     },
     "execution_count": 1,
     "metadata": {},
     "output_type": "execute_result"
    }
   ],
   "source": [
    "from langgraph.graph import StateGraph, START, END\n",
    "from langchain_huggingface import HuggingFaceEndpoint, ChatHuggingFace\n",
    "from typing import TypedDict, List, Annotated\n",
    "from langchain_core.messages import BaseMessage, HumanMessage, AIMessage\n",
    "from langgraph.graph.message import add_messages\n",
    "from langgraph.checkpoint.memory import InMemorySaver\n",
    "\n",
    "import os\n",
    "from dotenv import load_dotenv\n",
    "load_dotenv()\n",
    "\n",
    "\n",
    "# v1 - Simple Chatbot"
   ]
  },
  {
   "cell_type": "code",
   "execution_count": 2,
   "metadata": {},
   "outputs": [
    {
     "name": "stderr",
     "output_type": "stream",
     "text": [
      "e:\\AI-LLMs\\venv\\Lib\\site-packages\\tqdm\\auto.py:21: TqdmWarning: IProgress not found. Please update jupyter and ipywidgets. See https://ipywidgets.readthedocs.io/en/stable/user_install.html\n",
      "  from .autonotebook import tqdm as notebook_tqdm\n"
     ]
    }
   ],
   "source": [
    "# Model \n",
    "\n",
    "repo_id = \"meta-llama/Llama-3.1-8B-Instruct\"\n",
    "# repo_id = \"TinyLlama/TinyLlama-1.1B-Chat-v1.0\"\n",
    "endpoint = HuggingFaceEndpoint(\n",
    "            repo_id= repo_id,\n",
    "            max_new_tokens= 128,\n",
    "            temperature= 0.2,\n",
    "            huggingfacehub_api_token= os.getenv('HUGGINGFACEHUB_API_TOKEN'))\n",
    "llm = ChatHuggingFace(llm= endpoint)"
   ]
  },
  {
   "cell_type": "code",
   "execution_count": 3,
   "metadata": {},
   "outputs": [],
   "source": [
    "# State\n",
    "\n",
    "class JokeState(TypedDict):\n",
    "    topic: str\n",
    "    joke: str\n",
    "    explaination: str"
   ]
  },
  {
   "cell_type": "code",
   "execution_count": 4,
   "metadata": {},
   "outputs": [],
   "source": [
    "# Nodes/functions\n",
    "\n",
    "def generate_joke(state : JokeState)-> JokeState:\n",
    "    topic = state[\"topic\"]\n",
    "    prompt = f\" Generate a funny and witty joke based on : {topic}\"\n",
    "    \n",
    "    response = llm.invoke(prompt)\n",
    "    partial_state = { \"joke\": response.content}\n",
    "    return partial_state\n",
    "\n",
    "def generate_explaination(state : JokeState)-> JokeState:\n",
    "    topic = state[\"topic\"]\n",
    "    joke = state[\"joke\"]\n",
    "    prompt = f\" Explain this joke : {joke}  based on the topic of {topic}\"\n",
    "    \n",
    "    response = llm.invoke(prompt)\n",
    "    return {\"explaination\":response.content}\n"
   ]
  },
  {
   "cell_type": "code",
   "execution_count": 5,
   "metadata": {},
   "outputs": [
    {
     "data": {
      "image/png": "[encoded data removed]",
      "text/plain": [
       "<langgraph.graph.state.CompiledStateGraph object at 0x000002611054ABD0>"
      ]
     },
     "execution_count": 5,
     "metadata": {},
     "output_type": "execute_result"
    }
   ],
   "source": [
    "# Graph \n",
    "\n",
    "graph = StateGraph(state_schema= JokeState)\n",
    "\n",
    "graph.add_node(\"generate_joke\", generate_joke)\n",
    "graph.add_node(\"generate_explaination\", generate_explaination)\n",
    "\n",
    "# Adding Edges\n",
    "    # Start\n",
    "graph.add_edge(START, \"generate_joke\")\n",
    "graph.add_edge(\"generate_joke\", \"generate_explaination\")\n",
    "graph.add_edge(\"generate_explaination\", END)\n",
    "\n",
    "checkpointer = InMemorySaver()\n",
    "workflow = graph.compile(checkpointer= checkpointer)\n",
    "\n",
    "workflow"
   ]
  },
  {
   "cell_type": "code",
   "execution_count": 6,
   "metadata": {},
   "outputs": [
    {
     "data": {
      "text/plain": [
       "{'topic': ' Donald the duck',\n",
       " 'joke': \"Why did Donald the duck go to therapy? \\n\\nBecause he had fowl temper and couldn't quack out his problems!\",\n",
       " 'explaination': 'The joke relies on a play on words and puns related to Donald the duck\\'s characteristics.\\n\\n\"Have a fowl temper\" is a double meaning phrase here. \"Fowl\" is a pun on \"foul\" (meaning having a bad temper), but since Donald is a duck (a type of bird, often referred to as \"fowl\" in a colloquial sense), it makes the phrase funnier. So, the joke is using Donald\\'s species (\"fowl\") to create a wordplay on the common phrase \"bad temper.\"\\n\\nThe second part, \"couldn\\'t quack out his problems,\" is another play on words referencing Donald the duck\\'s distinctive call, which is a quack. So, the joke is making a clever connection between Donald\\'s speech (quacking) and the common phrase \"speak out\" or \"vent\" one\\'s problems.\\n\\nOverall, the joke is lighthearted and silly, using Donald the duck\\'s character to create a pun-filled punchline that connects the duck\\'s species (fowl) with its behavior (bad temper) and distinctive voice (quacking).'}"
      ]
     },
     "execution_count": 6,
     "metadata": {},
     "output_type": "execute_result"
    }
   ],
   "source": [
    "topic= \"\"\" Donald the duck\"\"\"\n",
    "\n",
    "init_state = {\n",
    "  \"topic\": topic\n",
    "}\n",
    "\n",
    "# We must provide config with thread_id to run with checkpointer\n",
    "\n",
    "config1 = {\"configurable\":{\"thread_id\":1}}\n",
    "final_state = workflow.invoke(init_state, config=config1)\n",
    "\n",
    "final_state"
   ]
  },
  {
   "cell_type": "code",
   "execution_count": 7,
   "metadata": {},
   "outputs": [
    {
     "data": {
      "text/plain": [
       "StateSnapshot(values={'topic': ' Donald the duck', 'joke': \"Why did Donald the duck go to therapy? \\n\\nBecause he had fowl temper and couldn't quack out his problems!\", 'explaination': 'The joke relies on a play on words and puns related to Donald the duck\\'s characteristics.\\n\\n\"Have a fowl temper\" is a double meaning phrase here. \"Fowl\" is a pun on \"foul\" (meaning having a bad temper), but since Donald is a duck (a type of bird, often referred to as \"fowl\" in a colloquial sense), it makes the phrase funnier. So, the joke is using Donald\\'s species (\"fowl\") to create a wordplay on the common phrase \"bad temper.\"\\n\\nThe second part, \"couldn\\'t quack out his problems,\" is another play on words referencing Donald the duck\\'s distinctive call, which is a quack. So, the joke is making a clever connection between Donald\\'s speech (quacking) and the common phrase \"speak out\" or \"vent\" one\\'s problems.\\n\\nOverall, the joke is lighthearted and silly, using Donald the duck\\'s character to create a pun-filled punchline that connects the duck\\'s species (fowl) with its behavior (bad temper) and distinctive voice (quacking).'}, next=(), config={'configurable': {'thread_id': '1', 'checkpoint_ns': '', 'checkpoint_id': '1f091983-cfad-6770-8002-30dd5aac68bb'}}, metadata={'source': 'loop', 'step': 2, 'parents': {}}, created_at='2025-09-14T18:25:49.261400+00:00', parent_config={'configurable': {'thread_id': '1', 'checkpoint_ns': '', 'checkpoint_id': '1f091983-c990-666b-8001-a209ac310c3b'}}, tasks=(), interrupts=())"
      ]
     },
     "execution_count": 7,
     "metadata": {},
     "output_type": "execute_result"
    }
   ],
   "source": [
    "# Get all the snapshot of the final state at this point stored \n",
    "# in the graph\n",
    "workflow.get_state(config=config1)"
   ]
  },
  {
   "cell_type": "code",
   "execution_count": 8,
   "metadata": {},
   "outputs": [
    {
     "data": {
      "text/plain": [
       "[StateSnapshot(values={'topic': ' Donald the duck', 'joke': \"Why did Donald the duck go to therapy? \\n\\nBecause he had fowl temper and couldn't quack out his problems!\", 'explaination': 'The joke relies on a play on words and puns related to Donald the duck\\'s characteristics.\\n\\n\"Have a fowl temper\" is a double meaning phrase here. \"Fowl\" is a pun on \"foul\" (meaning having a bad temper), but since Donald is a duck (a type of bird, often referred to as \"fowl\" in a colloquial sense), it makes the phrase funnier. So, the joke is using Donald\\'s species (\"fowl\") to create a wordplay on the common phrase \"bad temper.\"\\n\\nThe second part, \"couldn\\'t quack out his problems,\" is another play on words referencing Donald the duck\\'s distinctive call, which is a quack. So, the joke is making a clever connection between Donald\\'s speech (quacking) and the common phrase \"speak out\" or \"vent\" one\\'s problems.\\n\\nOverall, the joke is lighthearted and silly, using Donald the duck\\'s character to create a pun-filled punchline that connects the duck\\'s species (fowl) with its behavior (bad temper) and distinctive voice (quacking).'}, next=(), config={'configurable': {'thread_id': '1', 'checkpoint_ns': '', 'checkpoint_id': '1f091983-cfad-6770-8002-30dd5aac68bb'}}, metadata={'source': 'loop', 'step': 2, 'parents': {}}, created_at='2025-09-14T18:25:49.261400+00:00', parent_config={'configurable': {'thread_id': '1', 'checkpoint_ns': '', 'checkpoint_id': '1f091983-c990-666b-8001-a209ac310c3b'}}, tasks=(), interrupts=()),\n",
       " StateSnapshot(values={'topic': ' Donald the duck', 'joke': \"Why did Donald the duck go to therapy? \\n\\nBecause he had fowl temper and couldn't quack out his problems!\"}, next=('generate_explaination',), config={'configurable': {'thread_id': '1', 'checkpoint_ns': '', 'checkpoint_id': '1f091983-c990-666b-8001-a209ac310c3b'}}, metadata={'source': 'loop', 'step': 1, 'parents': {}}, created_at='2025-09-14T18:25:48.620349+00:00', parent_config={'configurable': {'thread_id': '1', 'checkpoint_ns': '', 'checkpoint_id': '1f091983-aec6-6009-8000-941b362eb9b9'}}, tasks=(PregelTask(id='ac87ae79-4415-a4c7-02df-6e29d6c69f2e', name='generate_explaination', path=('__pregel_pull', 'generate_explaination'), error=None, interrupts=(), state=None, result={'explaination': 'The joke relies on a play on words and puns related to Donald the duck\\'s characteristics.\\n\\n\"Have a fowl temper\" is a double meaning phrase here. \"Fowl\" is a pun on \"foul\" (meaning having a bad temper), but since Donald is a duck (a type of bird, often referred to as \"fowl\" in a colloquial sense), it makes the phrase funnier. So, the joke is using Donald\\'s species (\"fowl\") to create a wordplay on the common phrase \"bad temper.\"\\n\\nThe second part, \"couldn\\'t quack out his problems,\" is another play on words referencing Donald the duck\\'s distinctive call, which is a quack. So, the joke is making a clever connection between Donald\\'s speech (quacking) and the common phrase \"speak out\" or \"vent\" one\\'s problems.\\n\\nOverall, the joke is lighthearted and silly, using Donald the duck\\'s character to create a pun-filled punchline that connects the duck\\'s species (fowl) with its behavior (bad temper) and distinctive voice (quacking).'}),), interrupts=()),\n",
       " StateSnapshot(values={'topic': ' Donald the duck'}, next=('generate_joke',), config={'configurable': {'thread_id': '1', 'checkpoint_ns': '', 'checkpoint_id': '1f091983-aec6-6009-8000-941b362eb9b9'}}, metadata={'source': 'loop', 'step': 0, 'parents': {}}, created_at='2025-09-14T18:25:45.811149+00:00', parent_config={'configurable': {'thread_id': '1', 'checkpoint_ns': '', 'checkpoint_id': '1f091983-ae66-6c14-bfff-f0ea09303cea'}}, tasks=(PregelTask(id='e06a9603-bd3d-548e-d816-64504660bc12', name='generate_joke', path=('__pregel_pull', 'generate_joke'), error=None, interrupts=(), state=None, result={'joke': \"Why did Donald the duck go to therapy? \\n\\nBecause he had fowl temper and couldn't quack out his problems!\"}),), interrupts=()),\n",
       " StateSnapshot(values={}, next=('__start__',), config={'configurable': {'thread_id': '1', 'checkpoint_ns': '', 'checkpoint_id': '1f091983-ae66-6c14-bfff-f0ea09303cea'}}, metadata={'source': 'input', 'step': -1, 'parents': {}}, created_at='2025-09-14T18:25:45.772136+00:00', parent_config=None, tasks=(PregelTask(id='b4084969-5afe-634f-37d5-f997422ee2cf', name='__start__', path=('__pregel_pull', '__start__'), error=None, interrupts=(), state=None, result={'topic': ' Donald the duck'}),), interrupts=())]"
      ]
     },
     "execution_count": 8,
     "metadata": {},
     "output_type": "execute_result"
    }
   ],
   "source": [
    "# Get the states at all checkpoints\n",
    "list(workflow.get_state_history(config= config1))"
   ]
  },
  {
   "cell_type": "code",
   "execution_count": 12,
   "metadata": {},
   "outputs": [
    {
     "data": {
      "text/plain": [
       "StateSnapshot(values={'topic': ' Donald the duck', 'joke': \"Why did Donald the duck go to therapy? \\n\\nBecause he had fowl temper and couldn't quack out his problems!\"}, next=('generate_explaination',), config={'configurable': {'thread_id': '1', 'checkpoint_id': '1f091983-c990-666b-8001-a209ac310c3b'}}, metadata={'source': 'loop', 'step': 1, 'parents': {}}, created_at='2025-09-14T18:25:48.620349+00:00', parent_config={'configurable': {'thread_id': '1', 'checkpoint_ns': '', 'checkpoint_id': '1f091983-aec6-6009-8000-941b362eb9b9'}}, tasks=(PregelTask(id='ac87ae79-4415-a4c7-02df-6e29d6c69f2e', name='generate_explaination', path=('__pregel_pull', 'generate_explaination'), error=None, interrupts=(), state=None, result={'explaination': 'The joke relies on a play on words and puns related to Donald the duck\\'s characteristics.\\n\\n\"Have a fowl temper\" is a double meaning phrase here. \"Fowl\" is a pun on \"foul\" (meaning having a bad temper), but since Donald is a duck (a type of bird, often referred to as \"fowl\" in a colloquial sense), it makes the phrase funnier. So, the joke is using Donald\\'s species (\"fowl\") to create a wordplay on the common phrase \"bad temper.\"\\n\\nThe second part, \"couldn\\'t quack out his problems,\" is another play on words referencing Donald the duck\\'s distinctive call, which is a quack. So, the joke is making a clever connection between Donald\\'s speech (quacking) and the common phrase \"speak out\" or \"vent\" one\\'s problems.\\n\\nOverall, the joke is lighthearted and silly, using Donald the duck\\'s character to create a pun-filled punchline that connects the duck\\'s species (fowl) with its behavior (bad temper) and distinctive voice (quacking).'}),), interrupts=())"
      ]
     },
     "execution_count": 12,
     "metadata": {},
     "output_type": "execute_result"
    }
   ],
   "source": [
    "checkpoint_id1 = \"1f091983-c990-666b-8001-a209ac310c3b\"\n",
    "\n",
    "workflow.get_state({\"configurable\":{\"thread_id\":1,\"checkpoint_id\":checkpoint_id1}})"
   ]
  },
  {
   "cell_type": "code",
   "execution_count": 10,
   "metadata": {},
   "outputs": [
    {
     "data": {
      "text/plain": [
       "{'topic': 'pizza',\n",
       " 'joke': 'Why did the pizza go to therapy?\\n\\nBecause it was feeling crusty under pressure.',\n",
       " 'explaination': 'This joke plays on a double meaning of the word \"crusty\". In one sense, a crust is the outer layer of a pizza. However, \"crusty\" can also describe someone who appears or feels aloof, grumpy, or irritable. \\n\\nIn the joke, the punchline \"because it was feeling crusty under pressure\" implies that the pizza is experiencing anxiety (under pressure) and as a result, it\\'s becoming grumpy or difficult to handle (feeling crusty). The use of the wordplay between the literal pizza crust and the emotional state of being \"crusty\" creates a humorous effect, highlighting the pizza\\'s emotional struggles.'}"
      ]
     },
     "execution_count": 10,
     "metadata": {},
     "output_type": "execute_result"
    }
   ],
   "source": [
    "config2 = {\"configurable\":{\"thread_id\":2}}\n",
    "final_state = workflow.invoke({\"topic\":\"pizza\"}, config= config2)\n",
    "final_state"
   ]
  },
  {
   "cell_type": "code",
   "execution_count": 11,
   "metadata": {},
   "outputs": [
    {
     "data": {
      "text/plain": [
       "StateSnapshot(values={'topic': 'pizza', 'joke': 'Why did the pizza go to therapy?\\n\\nBecause it was feeling crusty under pressure.', 'explaination': 'This joke plays on a double meaning of the word \"crusty\". In one sense, a crust is the outer layer of a pizza. However, \"crusty\" can also describe someone who appears or feels aloof, grumpy, or irritable. \\n\\nIn the joke, the punchline \"because it was feeling crusty under pressure\" implies that the pizza is experiencing anxiety (under pressure) and as a result, it\\'s becoming grumpy or difficult to handle (feeling crusty). The use of the wordplay between the literal pizza crust and the emotional state of being \"crusty\" creates a humorous effect, highlighting the pizza\\'s emotional struggles.'}, next=(), config={'configurable': {'thread_id': '2', 'checkpoint_ns': '', 'checkpoint_id': '1f091983-e1f9-6fc1-8002-e5b323a4f4f5'}}, metadata={'source': 'loop', 'step': 2, 'parents': {}}, created_at='2025-09-14T18:25:51.180179+00:00', parent_config={'configurable': {'thread_id': '2', 'checkpoint_ns': '', 'checkpoint_id': '1f091983-dbbd-633a-8001-ef8a611e04cd'}}, tasks=(), interrupts=())"
      ]
     },
     "execution_count": 11,
     "metadata": {},
     "output_type": "execute_result"
    }
   ],
   "source": [
    "workflow.get_state(config= config2)"
   ]
  }
 ],
 "metadata": {
  "kernelspec": {
   "display_name": "venv",
   "language": "python",
   "name": "python3"
  },
  "language_info": {
   "codemirror_mode": {
    "name": "ipython",
    "version": 3
   },
   "file_extension": ".py",
   "mimetype": "text/x-python",
   "name": "python",
   "nbconvert_exporter": "python",
   "pygments_lexer": "ipython3",
   "version": "3.12.6"
  },
  "orig_nbformat": 4
 },
 "nbformat": 4,
 "nbformat_minor": 2
}
