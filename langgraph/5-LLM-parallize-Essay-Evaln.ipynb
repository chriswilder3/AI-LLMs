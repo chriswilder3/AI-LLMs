{
 "cells": [
  {
   "cell_type": "code",
   "execution_count": 2,
   "metadata": {},
   "outputs": [
    {
     "data": {
      "text/plain": [
       "True"
      ]
     },
     "execution_count": 2,
     "metadata": {},
     "output_type": "execute_result"
    }
   ],
   "source": [
    "from langgraph.graph import StateGraph, START, END\n",
    "from langchain_huggingface import HuggingFaceEndpoint, ChatHuggingFace\n",
    "from langchain_core.prompts import ChatPromptTemplate\n",
    "from langchain_core.output_parsers import JsonOutputParser\n",
    "from typing import TypedDict, List, Annotated\n",
    "import operator\n",
    "\n",
    "import os\n",
    "from dotenv import load_dotenv\n",
    "load_dotenv()\n",
    "\n",
    "\n",
    "# Cricket Stats calculate"
   ]
  },
  {
   "cell_type": "code",
   "execution_count": 3,
   "metadata": {},
   "outputs": [
    {
     "name": "stderr",
     "output_type": "stream",
     "text": [
      "e:\\AI-LLMs\\venv\\Lib\\site-packages\\tqdm\\auto.py:21: TqdmWarning: IProgress not found. Please update jupyter and ipywidgets. See https://ipywidgets.readthedocs.io/en/stable/user_install.html\n",
      "  from .autonotebook import tqdm as notebook_tqdm\n"
     ]
    }
   ],
   "source": [
    "# Model \n",
    "\n",
    "repo_id = \"meta-llama/Llama-3.1-8B-Instruct\"\n",
    "# repo_id = \"TinyLlama/TinyLlama-1.1B-Chat-v1.0\"\n",
    "endpoint = HuggingFaceEndpoint(\n",
    "            repo_id= repo_id,\n",
    "            max_new_tokens= 128,\n",
    "            temperature= 0.3,\n",
    "            task=\"text-generation\",\n",
    "            huggingfacehub_api_token= os.getenv('HUGGINGFACEHUB_API_TOKEN'))\n",
    "llm = ChatHuggingFace(llm= endpoint)"
   ]
  },
  {
   "cell_type": "code",
   "execution_count": 17,
   "metadata": {},
   "outputs": [],
   "source": [
    "# State\n",
    "\n",
    "class EssayState(TypedDict):\n",
    "    essay : str\n",
    "    clarity : str\n",
    "    depth : str\n",
    "    language : str\n",
    "    final_feedback : str\n",
    "    # For indivual scores we can define custom reducer function \n",
    "    # or for listappend use \"add\" from \"operator\" library,\n",
    "    # Note that [1,2] + [3] is right not [1,2] + [3]. Hence \n",
    "    # each node must return list, which + operator can merge\n",
    "    # into 1 final list.\n",
    "    individual_scores : Annotated[ List[int], operator.add]\n",
    "    final_score : str\n",
    "\n",
    "# Parallel Node Structure\n",
    "    \n",
    "# class LLMOutput(BaseModel): \n",
    "#     feedback : str =  Field(description=\"Analyze the essay and write feedback on its clarity of thought\")\n",
    "#     score : int =  Field(description=\"Analyze the essay and give score(out of 10) on its clarity of thought\")\n",
    "# But Some llama models dont support pydantic model for \n",
    "# structured output, We can use TypedDict\n",
    "    \n",
    "class LLMOutput(TypedDict):\n",
    "    feedback : str\n",
    "    score : int\n",
    "\n",
    "class SummerizeOutput(TypedDict):\n",
    "    feedback : str"
   ]
  },
  {
   "cell_type": "code",
   "execution_count": 19,
   "metadata": {},
   "outputs": [
    {
     "name": "stdout",
     "output_type": "stream",
     "text": [
      "{'feedback': 'The essay clearly develops the idea that dialogue is essential for lasting peace, supported by historical and contemporary examples, but could benefit from more nuanced analysis of counterarguments and potential challenges to diplomatic engagement.', 'score': 8}\n"
     ]
    }
   ],
   "source": [
    "# Testing Parsers and Models\n",
    "essay_text= \"\"\" You Cannot Shake Hands with a Clenched Fist : \n",
    "            In a world increasingly shaped by complex divisions: political, ethnic, economic, or ideological, Indira Gandhi’s statement, “You cannot shake hands with a clenched fist,” remains strikingly relevant. The metaphor represents a universal truth: sustainable peace cannot emerge from hostility. This essay will examine historical precedents, contemporary challenges, and policy-driven solutions to argue that dialogue is indispensable for lasting peace.  \n",
    "\n",
    "            At its core, the metaphor speaks to the emotional and psychological barriers to peace. A clenched fist reflects fear, anger, and defensiveness; traits that often escalate rather than resolve conflict. By contrast, the gesture of a handshake implies mutual recognition and a desire to coexist. In both personal and political arenas, real progress begins only when parties choose communication over coercion. Such psychological barriers manifest as geopolitical conflicts, underscoring the urgency of diplomatic engagement, as history repeatedly demonstrates. \n",
    "\n",
    "            History provides numerous instances where diplomacy played a decisive role in averting large-scale disasters. During the Cold War, despite intense ideological divisions, diplomacy played a vital role in maintaining a balance of power. The Cuban Missile Crisis of 1962, resolved through direct communication between Washington and Moscow, is frequently cited as a moment when dialogue triumphed over destruction. Likewise, the post-World War II formation of multilateral institutions like the United Nations and the European Union reflected a collective recognition of the necessity for rules-based international cooperation. More recently, the Iran Nuclear Deal (2015) showcased the potential, albeit fragile, of multilateral diplomacy to curb proliferation. Agreements such as the Paris Climate Accord, though often imperfect or critiqued,  institutionalize dialogue, creating platforms for incremental progress.  \n",
    "\n",
    "            While the ideals of diplomacy and cooperation are widely supported in principle, real-world applications are fraught with difficulty. Historical grievances, asymmetrical power dynamics, and political opportunism often obstruct genuine negotiation. The ongoing conflict between Israel and Palestine illustrates how entrenched distrust, competing historical narratives, and cycles of violence undermine diplomatic efforts. Despite repeated international initiatives, a durable peace remains elusive. In another instance, the 2021 withdrawal of U.S. forces from Afghanistan exposed the limitations of prolonged military engagement without parallel political reconciliation. The eventual negotiations, though contentious, reaffirm that even adversaries must eventually embrace dialogue. \"\"\"\n",
    "\n",
    "prompt = f\"\"\" You are an essay writing assistant. Analyze the essay and give feedback on clarity of thought (single string)\n",
    "             and score(out of 10). essay : {essay_text}\"\"\"\n",
    "\n",
    "structured_llm = llm.with_structured_output(LLMOutput)\n",
    "response = structured_llm.invoke(prompt)\n",
    "print(response)"
   ]
  },
  {
   "cell_type": "code",
   "execution_count": 20,
   "metadata": {},
   "outputs": [
    {
     "data": {
      "text/plain": [
       "8"
      ]
     },
     "execution_count": 20,
     "metadata": {},
     "output_type": "execute_result"
    }
   ],
   "source": [
    "response[\"score\"]"
   ]
  },
  {
   "cell_type": "code",
   "execution_count": 21,
   "metadata": {},
   "outputs": [],
   "source": [
    "# Nodes/functions\n",
    "\n",
    "def llm_clarity(state : EssayState)-> EssayState:\n",
    "    essay_text = state[\"essay\"]\n",
    "    prompt = f\"\"\" You are an essay writing assistant. Analyze the essay and give feedback on clarity of thought (single string)\n",
    "             and score(out of 10). essay : {essay_text}\"\"\"\n",
    "\n",
    "    structured_llm = llm.with_structured_output(LLMOutput)\n",
    "    response = structured_llm.invoke(prompt)\n",
    "    # Make sure to give score in a list, not single int\n",
    "    # See State TypedDict Annotated for details.\n",
    "    partial_state = { \"clarity\": response[\"feedback\"],\n",
    "                      \"individual_scores\":[response[\"score\"] ]}\n",
    "    return partial_state\n",
    "\n",
    "def llm_depth(state : EssayState)-> EssayState:\n",
    "    essay_text = state[\"essay\"]\n",
    "    prompt = f\"\"\" You are an essay writing assistant. Analyze the essay and give feedback on depth of analysis (single string)\n",
    "             and score(out of 10). essay : {essay_text}\"\"\"\n",
    "    \n",
    "    structured_llm = llm.with_structured_output(LLMOutput)\n",
    "    response = structured_llm.invoke(prompt)\n",
    "    partial_state = {   \n",
    "                        \"depth\":  response[\"feedback\"],\n",
    "                        \"individual_scores\": [response[\"score\"]]\n",
    "                    }\n",
    "    return partial_state\n",
    "\n",
    "def llm_language(state : EssayState)-> EssayState:\n",
    "    essay_text = state[\"essay\"]\n",
    "    prompt = f\"\"\" You are an essay writing assistant. Analyze the essay and give feedback on language & grammar (single string)\n",
    "             and score(out of 10). essay : {essay_text}\"\"\"\n",
    "    \n",
    "    structured_llm = llm.with_structured_output(LLMOutput)\n",
    "    response = structured_llm.invoke(prompt)\n",
    "    partial_state = {\n",
    "        \"language\": response[\"feedback\"],\n",
    "        \"individual_scores\": [response[\"score\"]]\n",
    "    }\n",
    "    return partial_state\n",
    "\n",
    "def summarize(state : EssayState)-> EssayState:\n",
    "    clarity = state[\"clarity\"]\n",
    "    depth = state[\"depth\"]\n",
    "    language = state[\"language\"]\n",
    "    prompt = f\"\"\" You are an essay writing assistant. Given \n",
    "                previous feedbacks on clarity of thought , depth \n",
    "                of analysis, languange and grammar of an essay, \n",
    "                You need to professionally summerize these feedbacks\n",
    "                into a single feedback (single string).\n",
    "                clarity of thought : {clarity},\n",
    "                depth of analysis : {depth},\n",
    "                Language and grammar : {language}\"\"\"\n",
    "\n",
    "    structured_llm = llm.with_structured_output(SummerizeOutput)\n",
    "    response = structured_llm.invoke(prompt)\n",
    "    \n",
    "    final_score = float(sum(state[\"individual_scores\"])) / 3\n",
    "    partial_state = {\n",
    "        \"final_feedback\": response[\"feedback\"],\n",
    "        \"final_score\": final_score\n",
    "    }\n",
    "    return partial_state"
   ]
  },
  {
   "cell_type": "code",
   "execution_count": 22,
   "metadata": {},
   "outputs": [
    {
     "data": {
      "image/png": "[encoded data removed]",
      "text/plain": [
       "<langgraph.graph.state.CompiledStateGraph object at 0x000001DD472199D0>"
      ]
     },
     "execution_count": 22,
     "metadata": {},
     "output_type": "execute_result"
    }
   ],
   "source": [
    "# Graph \n",
    "\n",
    "graph = StateGraph(state_schema= EssayState)\n",
    "\n",
    "graph.add_node(\"llm_clarity\", llm_clarity)\n",
    "graph.add_node(\"llm_depth\", llm_depth)\n",
    "graph.add_node(\"llm_language\", llm_language)\n",
    "graph.add_node(\"summarize\", summarize)\n",
    "\n",
    "# Adding parallel edges\n",
    "graph.add_edge(START, \"llm_clarity\")\n",
    "graph.add_edge(START, \"llm_depth\")\n",
    "graph.add_edge(START, \"llm_language\")\n",
    "\n",
    "# Adding aggregate edges\n",
    "graph.add_edge(\"llm_clarity\",\"summarize\")\n",
    "graph.add_edge(\"llm_depth\",\"summarize\")\n",
    "graph.add_edge(\"llm_language\",\"summarize\")\n",
    "\n",
    "graph.add_edge(\"summarize\", END)\n",
    "\n",
    "workflow = graph.compile()\n",
    "workflow"
   ]
  },
  {
   "cell_type": "code",
   "execution_count": 23,
   "metadata": {},
   "outputs": [
    {
     "data": {
      "text/plain": [
       "{'essay': 'Essay Topic: The Impact of Technology on Education\\n\\nTechnology are changing education in many way, some is good and some is not so much good. Student using computer and phones for study but many time they distracted by social media and games which make the learning go down. Before, people going library and reading book, now they just typing in google and copy paste without understand real knowledge.\\n\\nTeacher also feeling confuse because student not listening in class, they think everything is online so why listen. But teacher still important because technology cannot give emotion or encouragement like human does, but still some peoples saying AI will replace all teachers in future. This make worry and also hope because maybe education become cheaper but maybe it become boring machine style.\\n\\nAnother problem is internet not same everywhere. In city student can learning with fast wifi, but in village many no connection, so they left behind. This is unfair and technology promise equality but actually sometimes it make more gap between rich and poor student.\\n\\nAlso online learning have issue, many student don’t open camera and they sleeping or doing nothing, but teacher cannot know. So quality of education going down. Even if technology is fast, the brain of student not become fast automatic.\\n\\nIn conclusion, technology and education is link together strong, but still many problem happening. Future maybe bright or maybe dark, depend how peoples using it. If we only trust computer, maybe human thinking will become weak, but if we use wisely then maybe education become more powerful than ever in history. '}"
      ]
     },
     "execution_count": 23,
     "metadata": {},
     "output_type": "execute_result"
    }
   ],
   "source": [
    "essay = \"\"\"Essay Topic: The Impact of Technology on Education\n",
    "\n",
    "Technology are changing education in many way, some is good and some is not so much good. Student using computer and phones for study but many time they distracted by social media and games which make the learning go down. Before, people going library and reading book, now they just typing in google and copy paste without understand real knowledge.\n",
    "\n",
    "Teacher also feeling confuse because student not listening in class, they think everything is online so why listen. But teacher still important because technology cannot give emotion or encouragement like human does, but still some peoples saying AI will replace all teachers in future. This make worry and also hope because maybe education become cheaper but maybe it become boring machine style.\n",
    "\n",
    "Another problem is internet not same everywhere. In city student can learning with fast wifi, but in village many no connection, so they left behind. This is unfair and technology promise equality but actually sometimes it make more gap between rich and poor student.\n",
    "\n",
    "Also online learning have issue, many student don’t open camera and they sleeping or doing nothing, but teacher cannot know. So quality of education going down. Even if technology is fast, the brain of student not become fast automatic.\n",
    "\n",
    "In conclusion, technology and education is link together strong, but still many problem happening. Future maybe bright or maybe dark, depend how peoples using it. If we only trust computer, maybe human thinking will become weak, but if we use wisely then maybe education become more powerful than ever in history. \"\"\"\n",
    "\n",
    "init_state = {\n",
    "  \"essay\": essay\n",
    "}\n",
    "init_state"
   ]
  },
  {
   "cell_type": "code",
   "execution_count": 24,
   "metadata": {},
   "outputs": [
    {
     "name": "stdout",
     "output_type": "stream",
     "text": [
      "The essay requires significant improvement in terms of clarity of thought, depth of analysis, and language/grammar, with a lack of concrete examples and evidence, informal tone, and grammatical errors.\n"
     ]
    }
   ],
   "source": [
    "final_state = workflow.invoke(init_state)\n",
    "\n",
    "print(final_state[\"final_feedback\"])"
   ]
  },
  {
   "cell_type": "code",
   "execution_count": 26,
   "metadata": {},
   "outputs": [
    {
     "data": {
      "text/plain": [
       "{'essay': 'Essay Topic: The Impact of Technology on Education\\n\\nTechnology are changing education in many way, some is good and some is not so much good. Student using computer and phones for study but many time they distracted by social media and games which make the learning go down. Before, people going library and reading book, now they just typing in google and copy paste without understand real knowledge.\\n\\nTeacher also feeling confuse because student not listening in class, they think everything is online so why listen. But teacher still important because technology cannot give emotion or encouragement like human does, but still some peoples saying AI will replace all teachers in future. This make worry and also hope because maybe education become cheaper but maybe it become boring machine style.\\n\\nAnother problem is internet not same everywhere. In city student can learning with fast wifi, but in village many no connection, so they left behind. This is unfair and technology promise equality but actually sometimes it make more gap between rich and poor student.\\n\\nAlso online learning have issue, many student don’t open camera and they sleeping or doing nothing, but teacher cannot know. So quality of education going down. Even if technology is fast, the brain of student not become fast automatic.\\n\\nIn conclusion, technology and education is link together strong, but still many problem happening. Future maybe bright or maybe dark, depend how peoples using it. If we only trust computer, maybe human thinking will become weak, but if we use wisely then maybe education become more powerful than ever in history. ',\n",
       " 'clarity': \"The essay lacks clarity in thought and is riddled with grammatical errors, making it difficult to understand the author's intended message. The writer jumps between ideas without proper transitions, and the writing style is often informal and lacking in depth.\",\n",
       " 'depth': 'The essay provides a decent analysis of the impact of technology on education, but lacks depth and critical thinking in its arguments. It touches on various issues, but fails to provide concrete examples or supporting evidence to strengthen its claims.',\n",
       " 'language': 'The essay requires significant improvement in terms of grammar, spelling, and coherence. It lacks concrete evidence and transitions between paragraphs. The language is informal and lacks sophistication. The conclusion is vague and does not effectively summarize the main points. To improve, the writer should revise the essay to ensure it meets the standards of clarity, coherence, and formal tone required for academic writing.',\n",
       " 'final_feedback': 'The essay requires significant improvement in terms of clarity of thought, depth of analysis, and language/grammar, with a lack of concrete examples and evidence, informal tone, and grammatical errors.',\n",
       " 'individual_scores': [4, 6, 4],\n",
       " 'final_score': 4.666666666666667}"
      ]
     },
     "execution_count": 26,
     "metadata": {},
     "output_type": "execute_result"
    }
   ],
   "source": [
    "final_state"
   ]
  },
  {
   "cell_type": "code",
   "execution_count": null,
   "metadata": {},
   "outputs": [],
   "source": []
  }
 ],
 "metadata": {
  "kernelspec": {
   "display_name": "venv",
   "language": "python",
   "name": "python3"
  },
  "language_info": {
   "codemirror_mode": {
    "name": "ipython",
    "version": 3
   },
   "file_extension": ".py",
   "mimetype": "text/x-python",
   "name": "python",
   "nbconvert_exporter": "python",
   "pygments_lexer": "ipython3",
   "version": "3.12.6"
  },
  "orig_nbformat": 4
 },
 "nbformat": 4,
 "nbformat_minor": 2
}
