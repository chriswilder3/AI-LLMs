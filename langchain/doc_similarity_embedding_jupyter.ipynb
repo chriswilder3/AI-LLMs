{
 "cells": [
  {
   "cell_type": "code",
   "execution_count": 1,
   "metadata": {},
   "outputs": [],
   "source": [
    "from langchain_huggingface import HuggingFaceEmbeddings\n",
    "from dotenv import load_dotenv\n",
    "load_dotenv()\n",
    "import numpy as np\n",
    "import os\n",
    "from sklearn.metrics.pairwise import cosine_similarity\n"
   ]
  },
  {
   "cell_type": "code",
   "execution_count": 2,
   "metadata": {},
   "outputs": [
    {
     "name": "stderr",
     "output_type": "stream",
     "text": [
      "e:\\AI-LLMs\\venv\\Lib\\site-packages\\tqdm\\auto.py:21: TqdmWarning: IProgress not found. Please update jupyter and ipywidgets. See https://ipywidgets.readthedocs.io/en/stable/user_install.html\n",
      "  from .autonotebook import tqdm as notebook_tqdm\n"
     ]
    }
   ],
   "source": [
    "embedding = HuggingFaceEmbeddings(\n",
    "    model_name=\"sentence-transformers/all-MiniLM-l6-v2\")"
   ]
  },
  {
   "cell_type": "code",
   "execution_count": 50,
   "metadata": {},
   "outputs": [],
   "source": [
    "docs = [\"I am sachin\", \"There is ice\",\"Queens are angry\",\"What is forest\"] # list of strs\n",
    "question = \"King is sad\"\n",
    "\n",
    "vectors = embedding.embed_documents(texts= docs)\n",
    "question_vector = embedding.embed_query(text= question)"
   ]
  },
  {
   "cell_type": "code",
   "execution_count": 52,
   "metadata": {},
   "outputs": [
    {
     "data": {
      "text/plain": [
       "array([[0.25672237],\n",
       "       [0.1183795 ],\n",
       "       [0.45981875],\n",
       "       [0.08425985]])"
      ]
     },
     "execution_count": 52,
     "metadata": {},
     "output_type": "execute_result"
    }
   ],
   "source": [
    "cosine_similarity(vectors, [question_vector])"
   ]
  },
  {
   "attachments": {},
   "cell_type": "markdown",
   "metadata": {},
   "source": [
    "Another Method"
   ]
  },
  {
   "cell_type": "code",
   "execution_count": 53,
   "metadata": {},
   "outputs": [],
   "source": [
    "vectors = np.array(vectors)\n",
    "question_vector = np.array(question_vector).reshape(1,-1)"
   ]
  },
  {
   "cell_type": "code",
   "execution_count": 54,
   "metadata": {},
   "outputs": [
    {
     "name": "stdout",
     "output_type": "stream",
     "text": [
      "(4, 384)\n",
      "(1, 384)\n"
     ]
    }
   ],
   "source": [
    "print(vectors.shape)\n",
    "print(question_vector.shape)"
   ]
  },
  {
   "cell_type": "code",
   "execution_count": 55,
   "metadata": {},
   "outputs": [
    {
     "name": "stdout",
     "output_type": "stream",
     "text": [
      "(1, 384)\n",
      "(1, 384)\n",
      "(1, 384)\n",
      "(1, 384)\n"
     ]
    }
   ],
   "source": [
    "for vec in vectors:\n",
    "     print(vec.reshape(1,-1).shape)"
   ]
  },
  {
   "cell_type": "code",
   "execution_count": 56,
   "metadata": {},
   "outputs": [
    {
     "name": "stdout",
     "output_type": "stream",
     "text": [
      "cosine similarity of 0 doc [[0.25672237]]\n",
      "cosine similarity of 1 doc [[0.1183795]]\n",
      "cosine similarity of 2 doc [[0.45981875]]\n",
      "cosine similarity of 3 doc [[0.08425985]]\n"
     ]
    }
   ],
   "source": [
    "i =0\n",
    "highest_similarity = 0\n",
    "highest_similarity_index = -1\n",
    "for vec in vectors:\n",
    "    vec = vec.reshape(1,-1)\n",
    "    similarity = cosine_similarity(question_vector,vec)\n",
    "    if similarity > highest_similarity:\n",
    "        highest_similarity = similarity\n",
    "        highest_similarity_index = i\n",
    "    print(\"cosine similarity of\",i ,\"doc\", similarity)\n",
    "    i +=1\n"
   ]
  },
  {
   "cell_type": "code",
   "execution_count": 57,
   "metadata": {},
   "outputs": [
    {
     "name": "stdout",
     "output_type": "stream",
     "text": [
      "Higest Similarity :  [[0.45981875]]\n",
      "Closes doc :  Queens are angry\n"
     ]
    }
   ],
   "source": [
    "print(\"Higest Similarity : \", highest_similarity)\n",
    "print(\"Closes doc : \", docs[highest_similarity_index])"
   ]
  }
 ],
 "metadata": {
  "kernelspec": {
   "display_name": "venv",
   "language": "python",
   "name": "python3"
  },
  "language_info": {
   "codemirror_mode": {
    "name": "ipython",
    "version": 3
   },
   "file_extension": ".py",
   "mimetype": "text/x-python",
   "name": "python",
   "nbconvert_exporter": "python",
   "pygments_lexer": "ipython3",
   "version": "3.12.6"
  },
  "orig_nbformat": 4
 },
 "nbformat": 4,
 "nbformat_minor": 2
}
